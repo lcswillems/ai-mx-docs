{
 "cells": [
  {
   "cell_type": "code",
   "execution_count": null,
   "metadata": {},
   "outputs": [],
   "source": [
    "!pip install -r requirements.txt"
   ]
  },
  {
   "cell_type": "code",
   "execution_count": 47,
   "metadata": {},
   "outputs": [
    {
     "data": {
      "text/plain": [
       "True"
      ]
     },
     "execution_count": 47,
     "metadata": {},
     "output_type": "execute_result"
    }
   ],
   "source": [
    "import pathlib\n",
    "import pickle\n",
    "from langchain.docstore.document import Document\n",
    "from langchain.text_splitter import CharacterTextSplitter\n",
    "from langchain.vectorstores.faiss import FAISS\n",
    "from langchain.embeddings import HuggingFaceEmbeddings\n",
    "from langchain.chains.qa_with_sources import load_qa_with_sources_chain\n",
    "from langchain.llms import OpenAI\n",
    "from dotenv import load_dotenv\n",
    "\n",
    "load_dotenv()"
   ]
  },
  {
   "cell_type": "code",
   "execution_count": 39,
   "metadata": {},
   "outputs": [],
   "source": [
    "documents = []\n",
    "\n",
    "splitter = CharacterTextSplitter.from_tiktoken_encoder(chunk_size=2500, chunk_overlap=100)\n",
    "\n",
    "docs_path = pathlib.Path(\"./mx-docs/docs/\")\n",
    "file_paths = list(docs_path.glob(\"**/*.md\")) + list(docs_path.glob(\"**/*.mdx\"))\n",
    "\n",
    "for file_path in file_paths:\n",
    "  with open(file_path, \"r\") as f:\n",
    "    content = f.read()\n",
    "\n",
    "  relative_path = file_path.relative_to(docs_path).with_suffix(\"\")\n",
    "  metadata = {\"source\": f\"https://docs.multiversx.com/{relative_path}\"}\n",
    "\n",
    "  for chunk in splitter.split_text(content):\n",
    "    documents.append(Document(page_content=chunk, metadata=metadata))\n",
    "\n",
    "index = FAISS.from_documents(documents, HuggingFaceEmbeddings())\n",
    "\n",
    "with open(\"index.pickle\", \"wb\") as f:\n",
    "    pickle.dump(index, f)"
   ]
  },
  {
   "cell_type": "code",
   "execution_count": 48,
   "metadata": {},
   "outputs": [],
   "source": [
    "chain = load_qa_with_sources_chain(OpenAI(temperature=0, max_tokens=-1))\n",
    "\n",
    "with open(\"index.pickle\", \"rb\") as f:\n",
    "  search_index = pickle.load(f)\n",
    "\n",
    "def query(question):\n",
    "  selected_docs = search_index.similarity_search(question, k=1)\n",
    "\n",
    "  response = chain({\n",
    "    \"input_documents\": selected_docs,\n",
    "    \"question\": f\"{question} — Give as much details as possible.\"\n",
    "  }, return_only_outputs=True)[\"output_text\"]\n",
    "\n",
    "  return response"
   ]
  },
  {
   "cell_type": "code",
   "execution_count": 49,
   "metadata": {},
   "outputs": [
    {
     "name": "stdout",
     "output_type": "stream",
     "text": [
      " To create an ESDT token, you need to open the MultiversX web wallet, go to the ISSUE section, click on Tokens, enter the required details, review and sign the transaction, and wait for it to be processed. You can find the token identifier on the Explorer page of the issue transaction or from the Web Wallet. To transfer a token, open the MultiversX web wallet, navigate to the Tokens tab, click on Send for the token you want to transfer, introduce the recipient and the amount you want to send, and press Send.\n",
      "SOURCES: https://docs.multiversx.com/wallet/wallet-token\n"
     ]
    }
   ],
   "source": [
    "print(query(\"How to create an ESDT token?\"))"
   ]
  }
 ],
 "metadata": {
  "kernelspec": {
   "display_name": ".venv",
   "language": "python",
   "name": "python3"
  },
  "language_info": {
   "codemirror_mode": {
    "name": "ipython",
    "version": 3
   },
   "file_extension": ".py",
   "mimetype": "text/x-python",
   "name": "python",
   "nbconvert_exporter": "python",
   "pygments_lexer": "ipython3",
   "version": "3.10.6"
  },
  "orig_nbformat": 4,
  "vscode": {
   "interpreter": {
    "hash": "94df8d3fbdf61d1378bc754041a8aed4d1419e13934565125950be3894af9feb"
   }
  }
 },
 "nbformat": 4,
 "nbformat_minor": 2
}
